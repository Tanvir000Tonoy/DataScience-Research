{
  "nbformat": 4,
  "nbformat_minor": 0,
  "metadata": {
    "colab": {
      "provenance": [],
      "toc_visible": true,
      "include_colab_link": true
    },
    "kernelspec": {
      "name": "python3",
      "display_name": "Python 3"
    },
    "language_info": {
      "name": "python"
    }
  },
  "cells": [
    {
      "cell_type": "markdown",
      "metadata": {
        "id": "view-in-github",
        "colab_type": "text"
      },
      "source": [
        "<a href=\"https://colab.research.google.com/github/Tanvir000Tonoy/DataScience-Research/blob/main/Weekly-HomeWork/Week_5/Assignment_5_Data_Preprocessing_and_Pipeline.ipynb\" target=\"_parent\"><img src=\"https://colab.research.google.com/assets/colab-badge.svg\" alt=\"Open In Colab\"/></a>"
      ]
    },
    {
      "cell_type": "markdown",
      "source": [
        "# Week 05 - Assignment\n",
        "` Tanvir Tonoy `\n",
        "- Data Preprocessing & Pipelines\n",
        "- Scikit Learn\n",
        "- Pandas\n",
        "- Numpy"
      ],
      "metadata": {
        "id": "N5sVDGwklgzn"
      }
    },
    {
      "cell_type": "code",
      "source": [
        "from google.colab import drive\n",
        "drive.mount('/content/drive')"
      ],
      "metadata": {
        "colab": {
          "base_uri": "https://localhost:8080/"
        },
        "id": "BrimaYZKlWtu",
        "outputId": "f4b05ff2-dfe2-4243-d944-28665290f989"
      },
      "execution_count": 44,
      "outputs": [
        {
          "output_type": "stream",
          "name": "stdout",
          "text": [
            "Drive already mounted at /content/drive; to attempt to forcibly remount, call drive.mount(\"/content/drive\", force_remount=True).\n"
          ]
        }
      ]
    },
    {
      "cell_type": "markdown",
      "source": [
        "## Part 01\n"
      ],
      "metadata": {
        "id": "oacN1BXcmO5P"
      }
    },
    {
      "cell_type": "code",
      "execution_count": 46,
      "metadata": {
        "id": "kxzHrZ-S1J5-",
        "colab": {
          "base_uri": "https://localhost:8080/"
        },
        "outputId": "e4170dce-a29c-4d99-9937-9bdecf9c15e3"
      },
      "outputs": [
        {
          "output_type": "stream",
          "name": "stdout",
          "text": [
            "Number of houses: 545\n",
            "      price  area  bedrooms  bathrooms  stories mainroad guestroom basement  \\\n",
            "0  13300000  7420         4          2        3      yes        no       no   \n",
            "1  12250000  8960         4          4        4       no        no       no   \n",
            "2  12250000  9960         3          2        2      yes        no      yes   \n",
            "\n",
            "  hotwaterheating airconditioning  parking prefarea furnishingstatus  \n",
            "0              no             yes        2      yes        furnished  \n",
            "1              no             yes        3       no        furnished  \n",
            "2              no              no        2      yes   semi-furnished  \n"
          ]
        }
      ],
      "source": [
        "from os import path\n",
        "#Load the Data\n",
        "import pandas as pd\n",
        "import numpy as np\n",
        "from sklearn.model_selection import train_test_split\n",
        "from sklearn.preprocessing import StandardScaler\n",
        "\n",
        "# TODO: Load the housing data\n",
        "location = '/content/drive/MyDrive/Colab Notebooks/Home Tasks/Week05/Housing.csv'\n",
        "df = pd.read_csv(location) # My dataset\n",
        "\n",
        "# TODO: How many houses are there?\n",
        "print(f\"Number of houses: {len(df)}\")  # len is for checking the length of our array\n",
        "\n",
        "# TODO: Show first 3 houses\n",
        "# Your code here\n",
        "print(df.head(3))"
      ]
    },
    {
      "cell_type": "markdown",
      "source": [
        "## Part 02"
      ],
      "metadata": {
        "id": "vTumdy1BmPvn"
      }
    },
    {
      "cell_type": "code",
      "source": [
        "# Look at Columns\n",
        "# TODO: Show all column names\n",
        "print(\"Columns:\")\n",
        "# Your code here\n",
        "print(df.columns) #using pandas\n",
        "# TODO: Show data types of columns\n",
        "print(\"Data types:\")\n",
        "print(df.dtypes)"
      ],
      "metadata": {
        "id": "jY6xciSB1fGX",
        "colab": {
          "base_uri": "https://localhost:8080/"
        },
        "outputId": "7828fbea-e977-4022-db31-6fbd8a894dc2"
      },
      "execution_count": 47,
      "outputs": [
        {
          "output_type": "stream",
          "name": "stdout",
          "text": [
            "Columns:\n",
            "Index(['price', 'area', 'bedrooms', 'bathrooms', 'stories', 'mainroad',\n",
            "       'guestroom', 'basement', 'hotwaterheating', 'airconditioning',\n",
            "       'parking', 'prefarea', 'furnishingstatus'],\n",
            "      dtype='object')\n",
            "Data types:\n",
            "price                int64\n",
            "area                 int64\n",
            "bedrooms             int64\n",
            "bathrooms            int64\n",
            "stories              int64\n",
            "mainroad            object\n",
            "guestroom           object\n",
            "basement            object\n",
            "hotwaterheating     object\n",
            "airconditioning     object\n",
            "parking              int64\n",
            "prefarea            object\n",
            "furnishingstatus    object\n",
            "dtype: object\n"
          ]
        }
      ]
    },
    {
      "cell_type": "markdown",
      "source": [
        "## Part 03\n"
      ],
      "metadata": {
        "id": "O_4UtaUxmQXd"
      }
    },
    {
      "cell_type": "code",
      "source": [
        "#Convert Yes/No to 1/0\n",
        "# Check what's in our data\n",
        "print(\"Current mainroad values:\\n\", df['mainroad'].head(5))\n",
        "# Shows: yes, no, yes, yes, no\n",
        "\n",
        "# Models need numbers, not text!\n",
        "# We need: yes \u2192 1, no \u2192 0\n",
        "from sklearn.preprocessing import LabelEncoder\n",
        "le = LabelEncoder()\n",
        "df['encoded_mainroad'] = le.fit_transform(df['mainroad'])\n",
        "print(\"New mainroad values:\\n\", df['encoded_mainroad'].head())\n",
        "## Mine is showing 1 , 0 , 1, 1, 0 which is our expected output ! Thanks for reading till here after this part I had few confusions and so I will call it a day now."
      ],
      "metadata": {
        "id": "MwB1ZgVl1plX",
        "colab": {
          "base_uri": "https://localhost:8080/"
        },
        "outputId": "37fbe030-ab1c-4c95-8ce5-d66c9a651c3f"
      },
      "execution_count": 57,
      "outputs": [
        {
          "output_type": "stream",
          "name": "stdout",
          "text": [
            "Current mainroad values:\n",
            " 0    yes\n",
            "1     no\n",
            "2    yes\n",
            "3    yes\n",
            "4     no\n",
            "Name: mainroad, dtype: object\n",
            "New mainroad values:\n",
            " 0    1\n",
            "1    0\n",
            "2    1\n",
            "3    1\n",
            "4    0\n",
            "Name: encoded_mainroad, dtype: int64\n"
          ]
        }
      ]
    },
    {
      "cell_type": "markdown",
      "source": [
        "## Part 04"
      ],
      "metadata": {
        "id": "D_mK2L4DmRJ-"
      }
    },
    {
      "cell_type": "code",
      "source": [
        "# Split into Train and Test\n",
        "# TODO: Split - 80% train, 20% test"
      ],
      "metadata": {
        "id": "CGWFD9Do1w2J"
      },
      "execution_count": null,
      "outputs": []
    },
    {
      "cell_type": "markdown",
      "source": [
        "## Part 05"
      ],
      "metadata": {
        "id": "T5MFrf6lmSHs"
      }
    },
    {
      "cell_type": "code",
      "source": [
        "#Apply StandardScaler\n",
        "# Area is huge (1650-13300), Bedrooms is small (1-6)!\n",
        "#Your Code here"
      ],
      "metadata": {
        "id": "ORsVWo8E18y1"
      },
      "execution_count": null,
      "outputs": []
    },
    {
      "cell_type": "markdown",
      "source": [
        "## Part 06"
      ],
      "metadata": {
        "id": "Z8bWOIXBmSgK"
      }
    },
    {
      "cell_type": "code",
      "source": [
        "#train and test model\n",
        "#your code here"
      ],
      "metadata": {
        "id": "khBlvU-f2QnW"
      },
      "execution_count": null,
      "outputs": []
    },
    {
      "cell_type": "markdown",
      "source": [
        "## Part 07"
      ],
      "metadata": {
        "id": "GWWgot_YmTM9"
      }
    },
    {
      "cell_type": "code",
      "source": [
        "# Predict a House Price\n",
        "# New house details:\n",
        "# area=5000, bedrooms=3, bathrooms=2, stories=2,\n",
        "# mainroad=yes, guestroom=no, basement=yes,\n",
        "# hotwaterheating=no, airconditioning=yes,\n",
        "# parking=2, prefarea=yes, furnishingstatus=furnished\n",
        "#your code here"
      ],
      "metadata": {
        "id": "no5CjmoK2aHb"
      },
      "execution_count": null,
      "outputs": []
    }
  ]
}
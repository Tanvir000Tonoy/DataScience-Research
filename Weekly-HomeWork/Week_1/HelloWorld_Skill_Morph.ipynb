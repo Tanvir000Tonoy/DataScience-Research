{
  "nbformat": 4,
  "nbformat_minor": 0,
  "metadata": {
    "colab": {
      "provenance": [],
      "authorship_tag": "ABX9TyOXkbwycPQTdUHAGnsdyoLo",
      "include_colab_link": true
    },
    "kernelspec": {
      "name": "python3",
      "display_name": "Python 3"
    },
    "language_info": {
      "name": "python"
    }
  },
  "cells": [
    {
      "cell_type": "markdown",
      "metadata": {
        "id": "view-in-github",
        "colab_type": "text"
      },
      "source": [
        "<a href=\"https://colab.research.google.com/github/Tanvir000Tonoy/DataScience-Research/blob/main/HelloWorld_Skill_Morph.ipynb\" target=\"_parent\"><img src=\"https://colab.research.google.com/assets/colab-badge.svg\" alt=\"Open In Colab\"/></a>"
      ]
    },
    {
      "cell_type": "markdown",
      "source": [
        "# Tanvir Rahman `Tonoy`#\n",
        "**Skill Morph**\n",
        "\n",
        "\n",
        "\n"
      ],
      "metadata": {
        "id": "p0vNQOJjrvC7"
      }
    },
    {
      "cell_type": "code",
      "source": [
        "def helloWorld():\n",
        "  print(\"Hello Everyone!\")"
      ],
      "metadata": {
        "id": "UGoVqrvAr-Y_"
      },
      "execution_count": null,
      "outputs": []
    },
    {
      "cell_type": "code",
      "source": [
        "helloWorld()"
      ],
      "metadata": {
        "colab": {
          "base_uri": "https://localhost:8080/"
        },
        "id": "MDXKBTyzsFPT",
        "outputId": "d54ca455-6b5d-44a6-a1b5-2ae6d37c8145"
      },
      "execution_count": null,
      "outputs": [
        {
          "output_type": "stream",
          "name": "stdout",
          "text": [
            "Hello Everyone!\n"
          ]
        }
      ]
    },
    {
      "cell_type": "code",
      "source": [],
      "metadata": {
        "id": "llhNpbGYsGvL"
      },
      "execution_count": null,
      "outputs": []
    }
  ]
}
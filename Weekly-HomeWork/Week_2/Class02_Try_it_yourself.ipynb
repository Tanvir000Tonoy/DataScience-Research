{
  "nbformat": 4,
  "nbformat_minor": 0,
  "metadata": {
    "colab": {
      "provenance": [],
      "mount_file_id": "1m1Z46EDesjTk2jAUlXxkp4vFNwxhTnDo",
      "authorship_tag": "ABX9TyMTfeB6AXlfSr6EnQv+IRa4",
      "include_colab_link": true
    },
    "kernelspec": {
      "name": "python3",
      "display_name": "Python 3"
    },
    "language_info": {
      "name": "python"
    }
  },
  "cells": [
    {
      "cell_type": "markdown",
      "metadata": {
        "id": "view-in-github",
        "colab_type": "text"
      },
      "source": [
        "<a href=\"https://colab.research.google.com/github/Tanvir000Tonoy/DataScience-Research/blob/main/Weekly-HomeWork/Class02_Try_it_yourself.ipynb\" target=\"_parent\"><img src=\"https://colab.research.google.com/assets/colab-badge.svg\" alt=\"Open In Colab\"/></a>"
      ]
    },
    {
      "cell_type": "markdown",
      "source": [
        "# **Weekly Assignments : Class02** #"
      ],
      "metadata": {
        "id": "nazC014E3OSw"
      }
    },
    {
      "cell_type": "markdown",
      "source": [
        "## 2.1 Try it yourself"
      ],
      "metadata": {
        "id": "zckY693y4ZDe"
      }
    },
    {
      "cell_type": "code",
      "execution_count": null,
      "metadata": {
        "colab": {
          "base_uri": "https://localhost:8080/"
        },
        "id": "tesA_hs83n9w",
        "outputId": "f8052666-dd6f-49fd-f6b2-1944f822aeff"
      },
      "outputs": [
        {
          "output_type": "stream",
          "name": "stdout",
          "text": [
            "There was a boy called Tanvir Rahman Tonoy who's favorite color was Black and he was 20 years old\n"
          ]
        }
      ],
      "source": [
        "name = \"Tanvir Rahman Tonoy\"\n",
        "age = 20\n",
        "Favorite_color = \"Black\"\n",
        "print(f\"There was a boy called {name} who's favorite color was {Favorite_color} and he was {age} years old\")"
      ]
    },
    {
      "cell_type": "markdown",
      "source": [
        "## 2.2 Try it yourself"
      ],
      "metadata": {
        "id": "W2h_isQG4mJN"
      }
    },
    {
      "cell_type": "code",
      "source": [
        "# Data types examples\n",
        "# String :\n",
        "Book_Title = \"Atomic Habits \"\n",
        "Author = 'James Clear'\n",
        "Book = Book_Title + Author\n",
        "print(Book)\n",
        "print(type(Book))\n",
        "\n",
        "#Numbers\n",
        "My_capital = 96000000  # Fixed: removed commas to make it a proper integer\n",
        "print(type(My_capital))\n",
        "\n",
        "#Boolean\n",
        "Am_I_rich = True\n",
        "print(type(Am_I_rich))\n",
        "\n",
        "# Null\n",
        "zero_devided_something = None\n",
        "print(type(zero_devided_something))"
      ],
      "metadata": {
        "colab": {
          "base_uri": "https://localhost:8080/"
        },
        "id": "tqmXz8_Y4SpG",
        "outputId": "f4c1860c-ba0b-4eb1-cae8-0d554510acc9"
      },
      "execution_count": null,
      "outputs": [
        {
          "output_type": "stream",
          "name": "stdout",
          "text": [
            "Atomic Habits James Clear\n",
            "<class 'str'>\n",
            "<class 'tuple'>\n",
            "<class 'bool'>\n",
            "<class 'NoneType'>\n"
          ]
        }
      ]
    },
    {
      "cell_type": "markdown",
      "source": [
        "## 2.3 Try it yourself : Calculating are and perimeter of a retangle with length 7 and width 5"
      ],
      "metadata": {
        "id": "x_UixB9x6a1a"
      }
    },
    {
      "cell_type": "code",
      "source": [
        "length = 7\n",
        "width = 5\n",
        "# area\n",
        "area = length*width\n",
        "\n",
        "# perimeter\n",
        "perimeter = 2*(length+width)\n",
        "\n",
        "print(f\"The provided rectangle has the area of {area} squre unit and the perimeter is about {perimeter} unit\")"
      ],
      "metadata": {
        "colab": {
          "base_uri": "https://localhost:8080/"
        },
        "id": "hyIs_oIc6ag1",
        "outputId": "cb18e5e2-20a9-4a98-c3d9-f40ce8992e8c"
      },
      "execution_count": null,
      "outputs": [
        {
          "output_type": "stream",
          "name": "stdout",
          "text": [
            "The provided rectangle has the area of 35 squre unit and the perimeter is about 24 unit\n"
          ]
        }
      ]
    },
    {
      "cell_type": "markdown",
      "source": [
        "## 2.4 Try it yourself: Create a list of 5 Bangladeshi foods, then access the first and last elements"
      ],
      "metadata": {
        "id": "tMO-fDHq7SQO"
      }
    },
    {
      "cell_type": "code",
      "source": [
        "Bangladeshi_Foods = [\"Panta bhat\",\"Chotpoti\",\"iLish vahja\",\"Khichuri\",\"Bhapa pitha\"]\n",
        "first_element = Bangladeshi_Foods[0]\n",
        "last_element = Bangladeshi_Foods[-1]\n",
        "print(f\"The first element of the list is {first_element} and the last element is {last_element}\")\n",
        "#"
      ],
      "metadata": {
        "id": "GVyvhOAF5rDx",
        "colab": {
          "base_uri": "https://localhost:8080/"
        },
        "outputId": "a4b65fb1-0a79-40da-9f56-be7f23eacfff"
      },
      "execution_count": null,
      "outputs": [
        {
          "output_type": "stream",
          "name": "stdout",
          "text": [
            "The first element of the list is Panta bhat and the last element is Bhapa pitha\n"
          ]
        }
      ]
    },
    {
      "cell_type": "markdown",
      "source": [
        "## 2.5 Try it yourself: Create a list of 5 numbers, add a new number, remove one, and then sort the list."
      ],
      "metadata": {
        "id": "vFzfWNCG4UCs"
      }
    },
    {
      "cell_type": "code",
      "source": [
        "number_list = [1,2,3,4,5]\n",
        "number_list.append(6)\n",
        "number_list.remove(3)\n",
        "number_list.sort()\n",
        "print(number_list)\n",
        "#"
      ],
      "metadata": {
        "colab": {
          "base_uri": "https://localhost:8080/"
        },
        "id": "_lQsSCvC4C2D",
        "outputId": "222e5f37-79aa-47cb-8832-9d347d976273"
      },
      "execution_count": null,
      "outputs": [
        {
          "output_type": "stream",
          "name": "stdout",
          "text": [
            "[1, 2, 4, 5, 6]\n"
          ]
        }
      ]
    },
    {
      "cell_type": "markdown",
      "source": [
        "## 2.6 Try it yourself: Create a dictionary about yourself with at least 4 key-value pairs.##"
      ],
      "metadata": {
        "id": "upMI7e_r4qcG"
      }
    },
    {
      "cell_type": "code",
      "source": [
        "status = \"paid\"\n",
        "\n",
        "info_tanvir_r_tonoy = {\n",
        "    \"Student_Id\" : \"SM-DS-2025-B1-0114\",\n",
        "    \"Name\" : \"Tanvir Rahman Tonoy\",\n",
        "    \"age\" : 20,\n",
        "    \"Course_enrolled\" : \"Research through Data Science (ML, DL, FL)\",\n",
        "    \"Course_fee\" : status\n",
        "}\n",
        "print(info_tanvir_r_tonoy['Student_Id'])\n",
        "print(info_tanvir_r_tonoy['Course_enrolled'])\n",
        "print(info_tanvir_r_tonoy['Course_fee'])\n",
        "#"
      ],
      "metadata": {
        "colab": {
          "base_uri": "https://localhost:8080/"
        },
        "id": "CvTC8nWq4fp0",
        "outputId": "a5a91e1b-30b8-4d43-f514-03c1e03b0b99"
      },
      "execution_count": 10,
      "outputs": [
        {
          "output_type": "stream",
          "name": "stdout",
          "text": [
            "SM-DS-2025-B1-0114\n",
            "Research through Data Science (ML, DL, FL)\n",
            "paid\n"
          ]
        }
      ]
    },
    {
      "cell_type": "markdown",
      "source": [
        "## 2.7 Try it yourself: Create a tuple with the latitude and longitude of a famous place in Bangladesh."
      ],
      "metadata": {
        "id": "95JvyJy-7Zlj"
      }
    },
    {
      "cell_type": "code",
      "source": [
        "example_tuple = (\"The Parliament of Bangladesh\", 23.7907, 90.3715)\n",
        "print(example_tuple)"
      ],
      "metadata": {
        "id": "v7QuT2dU5KRO",
        "colab": {
          "base_uri": "https://localhost:8080/"
        },
        "outputId": "190292e1-f5ca-4f97-adf3-8a561d061952"
      },
      "execution_count": 11,
      "outputs": [
        {
          "output_type": "stream",
          "name": "stdout",
          "text": [
            "('The Parliament of Bangladesh', 23.7907, 90.3715)\n"
          ]
        }
      ]
    },
    {
      "cell_type": "markdown",
      "source": [
        "## 2.8 Try it yourself: Create two sets of colors and find their union and intersec"
      ],
      "metadata": {
        "id": "kwyRFQrr9kif"
      }
    },
    {
      "cell_type": "code",
      "source": [
        "setA = {\"red\",\"green\",\"blue\"}\n",
        "setB = {\"yellow\",\"gray\",\"blue\"}\n",
        "unionSet = setA.union(setB)\n",
        "print(unionSet)\n",
        "#\n",
        "\n",
        "intersectionSet = setA.intersection(setB)\n",
        "print(intersectionSet)"
      ],
      "metadata": {
        "colab": {
          "base_uri": "https://localhost:8080/"
        },
        "id": "bI61fPGB9U0a",
        "outputId": "cb3e338b-6513-454a-8781-d1cbfe2e473f"
      },
      "execution_count": 13,
      "outputs": [
        {
          "output_type": "stream",
          "name": "stdout",
          "text": [
            "{'green', 'gray', 'blue', 'red', 'yellow'}\n",
            "{'blue'}\n"
          ]
        }
      ]
    },
    {
      "cell_type": "markdown",
      "source": [
        "## 2.9 Try it yourself: Write a program that checks if a number is positive, negative, or zero."
      ],
      "metadata": {
        "id": "nAo8ECZt-W8T"
      }
    },
    {
      "cell_type": "code",
      "source": [
        "user_input = input(\"Enter a number: \")\n",
        "if(user_input.isdigit()):\n",
        "    user_input = int(user_input)\n",
        "    if(user_input > 0):\n",
        "        print(\"The number is positive\")\n",
        "    elif(user_input < 0):\n",
        "        print(\"The number is negative\")\n",
        "    else:\n",
        "        print(\"The number is zero\")\n",
        "else:\n",
        "  print(\"Please enter a number\")"
      ],
      "metadata": {
        "colab": {
          "base_uri": "https://localhost:8080/"
        },
        "id": "5PykfNk9-CQf",
        "outputId": "4282c2e7-3db8-4d42-8a67-8ac0dbc6b7aa"
      },
      "execution_count": 16,
      "outputs": [
        {
          "output_type": "stream",
          "name": "stdout",
          "text": [
            "Enter a number: 100\n",
            "The number is positive\n"
          ]
        }
      ]
    },
    {
      "cell_type": "markdown",
      "source": [
        "## 2.10 Try it yourself: Write a program that checks eligibility for a discount (student AND under 25, OR senior over 60)"
      ],
      "metadata": {
        "id": "GIWt_x_q-5kN"
      }
    },
    {
      "cell_type": "code",
      "source": [
        "isStudent = input(\"Are you a student: (Yes/No) \").lower()\n",
        "def is_not_integer(isStudent):\n",
        "    try:\n",
        "        int(isStudent)  # Attempt to convert to an integer\n",
        "        return False  # If successful, it is an integer\n",
        "    except ValueError:\n",
        "        return True\n",
        "if(is_not_integer(isStudent)):\n",
        "  age = int(input(\"Enter Your age: \"))\n",
        "  # Removed redundant if(True) condition\n",
        "    if((isStudent == \"yes\") and (int(age) <= 25)):\n",
        "        print(\"You are eligible for a discount\")\n",
        "    elif((isStudent == \"no\") and (int(age) >= 60)):\n",
        "        print(\"You are eligible for a discount\")\n",
        "    else:\n",
        "        print(\"You are not eligible for a discount\")\n",
        "else:\n",
        "  print(\"Please enter a valid input ! \")"
      ],
      "metadata": {
        "colab": {
          "base_uri": "https://localhost:8080/"
        },
        "id": "y2HXgPHC-k1U",
        "outputId": "34683816-3abc-49d4-e5ef-114524e95712"
      },
      "execution_count": 46,
      "outputs": [
        {
          "output_type": "stream",
          "name": "stdout",
          "text": [
            "Are you a student: (Yes/No) 100\n",
            "Please enter a valid input ! \n"
          ]
        }
      ]
    },
    {
      "cell_type": "markdown",
      "source": [
        "## 2.11 Try it yourself : write. a program that prints the first 10 even numbers using a for or while lop"
      ],
      "metadata": {
        "id": "jh6HDQ44E6-U"
      }
    },
    {
      "cell_type": "code",
      "source": [
        "\n",
        "for x in range(10):\n",
        "    x +=1\n",
        "    print(2*x)"
      ],
      "metadata": {
        "colab": {
          "base_uri": "https://localhost:8080/"
        },
        "id": "fPg19nWTFAYq",
        "outputId": "f99bbc0d-5402-4341-de9d-8ac6fff9647d"
      },
      "execution_count": 56,
      "outputs": [
        {
          "output_type": "stream",
          "name": "stdout",
          "text": [
            "2\n",
            "4\n",
            "6\n",
            "8\n",
            "10\n",
            "12\n",
            "14\n",
            "16\n",
            "18\n",
            "20\n"
          ]
        }
      ]
    },
    {
      "cell_type": "markdown",
      "source": [
        "## 2.12 Try it yourself: Write a program that prints a simple number pyramid pattern using nested loops."
      ],
      "metadata": {
        "id": "3q1vbiumGLp8"
      }
    },
    {
      "cell_type": "code",
      "source": [
        "def print_pyramid(rows):\n",
        "    \"\"\"\n",
        "    Prints a pyramid pattern of stars.\n",
        "\n",
        "    Args:\n",
        "        rows (int): The number of rows for the pyramid.\n",
        "    \"\"\"\n",
        "    for i in range(1, rows + 1):\n",
        "        # Print leading spaces\n",
        "        print(\" \" * (rows - i), end=\"\")\n",
        "        # Print stars\n",
        "        print(\"* \" * i)\n",
        "\n",
        "# Example usage:\n",
        "num_rows = 5\n",
        "print_pyramid(num_rows)\n"
      ],
      "metadata": {
        "colab": {
          "base_uri": "https://localhost:8080/"
        },
        "id": "59eritwmFNKc",
        "outputId": "90f240d3-4649-4ede-923d-84d5a60ca3a0"
      },
      "execution_count": 66,
      "outputs": [
        {
          "output_type": "stream",
          "name": "stdout",
          "text": [
            "    * \n",
            "   * * \n",
            "  * * * \n",
            " * * * * \n",
            "* * * * * \n"
          ]
        }
      ]
    },
    {
      "cell_type": "markdown",
      "source": [
        "## 2.13 Try it yourself: Create a function that converts temperature from Celsius to Fahrenheit using the formula: F = (C \u00d7 9/5) + 32"
      ],
      "metadata": {
        "id": "jTqIXuyyHT3t"
      }
    },
    {
      "cell_type": "code",
      "source": [
        "def celsius_to_fahrenheit(celsius):\n",
        "  \"\"\"Converts Celsius to Fahrenheit.\n",
        "\n",
        "  Args:\n",
        "    celsius: Temperature in Celsius.\n",
        "\n",
        "  Returns:\n",
        "    Temperature in Fahrenheit.\n",
        "  \"\"\"\n",
        "  fahrenheit = (celsius * 9/5) + 32\n",
        "  return fahrenheit\n",
        "\n",
        "# Example usage\n",
        "celsius_temp = float(input(\"Enter Temperature in Celsius: \"))\n",
        "fahrenheit_temp = celsius_to_fahrenheit(celsius_temp)\n",
        "print(f\"{celsius_temp} Celsius is equal to {fahrenheit_temp} Fahrenheit\")"
      ],
      "metadata": {
        "colab": {
          "base_uri": "https://localhost:8080/"
        },
        "id": "fBTLG_DJGZW8",
        "outputId": "d45aee3b-38cc-4da2-f338-11c3c6b91e13"
      },
      "execution_count": 70,
      "outputs": [
        {
          "output_type": "stream",
          "name": "stdout",
          "text": [
            "Enter Temperature in Celsius: 25\n",
            "25.0 Celsius is equal to 77.0 Fahrenheit\n"
          ]
        }
      ]
    },
    {
      "cell_type": "markdown",
      "source": [
        "## 2.14 Try it yourself: Create a function with default parameters that calculates the area of a rectangle."
      ],
      "metadata": {
        "id": "D7sYvxJuIDfe"
      }
    },
    {
      "cell_type": "code",
      "source": [
        "length = None\n",
        "width = None\n",
        "def area(length = 1, width = 1):\n",
        "    area = length * width\n",
        "    return area\n",
        "\n",
        "area()"
      ],
      "metadata": {
        "colab": {
          "base_uri": "https://localhost:8080/"
        },
        "id": "eOSIQArLHnjH",
        "outputId": "2459b57b-6164-40ed-cefa-1c535a4baed6"
      },
      "execution_count": 75,
      "outputs": [
        {
          "output_type": "execute_result",
          "data": {
            "text/plain": [
              "1"
            ]
          },
          "metadata": {},
          "execution_count": 75
        }
      ]
    },
    {
      "cell_type": "code",
      "source": [],
      "metadata": {
        "id": "ZiUOi2uUITfu"
      },
      "execution_count": null,
      "outputs": []
    }
  ]
}